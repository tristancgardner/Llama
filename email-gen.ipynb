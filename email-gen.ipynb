{
 "cells": [
  {
   "cell_type": "markdown",
   "metadata": {},
   "source": [
    "Script Notes:\n",
    "\n",
    "-   created 102224\n"
   ]
  },
  {
   "cell_type": "markdown",
   "metadata": {},
   "source": [
    "## Imports\n"
   ]
  },
  {
   "cell_type": "code",
   "execution_count": 1,
   "metadata": {},
   "outputs": [],
   "source": [
    "from pipeline import LlamaPipeline"
   ]
  },
  {
   "cell_type": "markdown",
   "metadata": {},
   "source": [
    "#### Load Model, Tokenizer\n"
   ]
  },
  {
   "cell_type": "code",
   "execution_count": 2,
   "metadata": {},
   "outputs": [
    {
     "name": "stdout",
     "output_type": "stream",
     "text": [
      "Downloading and converting model mlx-community/Meta-Llama-3-8B-Instruct-8bit...\n",
      "[INFO] Loading\n"
     ]
    },
    {
     "data": {
      "application/vnd.jupyter.widget-view+json": {
       "model_id": "1329a242663647c1a8760eb90fb38536",
       "version_major": 2,
       "version_minor": 0
      },
      "text/plain": [
       "Fetching 7 files:   0%|          | 0/7 [00:00<?, ?it/s]"
      ]
     },
     "metadata": {},
     "output_type": "display_data"
    },
    {
     "name": "stdout",
     "output_type": "stream",
     "text": [
      "Model saved to my_local_models/Meta-Llama-3-8B-Instruct-8bit\n"
     ]
    }
   ],
   "source": [
    "pipeline = LlamaPipeline(model_name=\"mlx-community/Meta-Llama-3-8B-Instruct-8bit\", local_dir=\"my_local_models\")"
   ]
  },
  {
   "cell_type": "markdown",
   "metadata": {},
   "source": [
    "## Email Replies (Stage)\n"
   ]
  },
  {
   "cell_type": "markdown",
   "metadata": {},
   "source": [
    "### Manual emails for ref, who am I greeting\n"
   ]
  },
  {
   "cell_type": "code",
   "execution_count": 19,
   "metadata": {},
   "outputs": [],
   "source": [
    "human_responses_stage = \"\"\"\n",
    "[Reply A] ------------------------------------------------------------\n",
    "\n",
    "Hi <client_name>, \n",
    "\n",
    "Thanks for reaching out!\n",
    "\n",
    "My name is Tristan Gardner and I'm the Owner of Suora Studios. We manage the Suora Stage at Trailblazer Studios with deep connections to the local production community and its various vendors. \n",
    "\n",
    "Currently, Monday 9/23 - Friday 9/27 is available.  Friday, 9/27, has a hold by another party, but I believe if you wanted that day, the other party would release it.  If not, that hold could also be formally challenged.\n",
    "\n",
    "I'd be happy to put together a project estimate if I could hop on a quick call with you this week or next?\n",
    "\n",
    "Please let me know if you have any questions.\n",
    "\n",
    "Best,\n",
    "Tristan\n",
    "\n",
    "[Reply B] ------------------------------------------------------------\n",
    "\n",
    "Hi <client_name>, \n",
    "\n",
    "My name is Tristan, and thanks for reaching out!\n",
    "The stage is currently available during November 12th-15th. If you're interested, I can place a soft hold on those dates for you. \n",
    "\n",
    "I’ve attached docs with info on the floor plan and rates. You can also check out our full list of equipment here. Scroll down to the lighting section - our DMX capable lights are the Aputure 300d (x2) and the Nova 300c (x1).\n",
    "\n",
    "When are you available this week for a quick call so we can discuss your needs in detail? \n",
    "\n",
    "Best,\n",
    "Tristan\n",
    "\n",
    "\"\"\"\n",
    "\n",
    "who_i_am = \"\"\"\n",
    "My name is Tristan Gardner and I'm the Owner of Suora Studios. We manage the Suora Stage at Trailblazer with deep connections to the local production community and its various vendors. \n",
    "\"\"\"\n"
   ]
  },
  {
   "cell_type": "markdown",
   "metadata": {},
   "source": [
    "### Prompt\n"
   ]
  },
  {
   "cell_type": "code",
   "execution_count": 15,
   "metadata": {},
   "outputs": [],
   "source": [
    "email = \"\"\" \n",
    "I am a NC Filmmaker, interested in exploring spaces for a short film.\n",
    "\n",
    "I would love to stop in, see the studio, and discuss our situation in greater detail. \n",
    "\n",
    "Our ideal shooting dates are the week of December 9th, shooting several back to back days.\n",
    "\n",
    "Happy to chat in person, I live her in Raleigh.\n",
    "\n",
    "Thanks, and looking forward to talking to you soon. \n",
    "\n",
    "Best regards,\n",
    "\n",
    "Caleb Dillon\n",
    "\"\"\""
   ]
  },
  {
   "cell_type": "code",
   "execution_count": 18,
   "metadata": {},
   "outputs": [
    {
     "name": "stdout",
     "output_type": "stream",
     "text": [
      "Here is a response to the initial inquiry:\n",
      "\n",
      "Hi Caleb,\n",
      "\n",
      "Thanks for reaching out!\n",
      "\n",
      "My name is Tristan Gardner and I'm the Owner of Suora Studios. We manage the Suora Stage at Trailblazer Studios with deep connections to the local production community and its various vendors.\n",
      "\n",
      "I'm excited to hear that you're interested in exploring our space for your short film. We do have shoot dates open for the week of December 9th, which aligns with your ideal shooting dates. We'd be happy to accommodate your back-to-back shooting schedule.\n",
      "\n",
      "Before we move forward, I'd like to offer you a soft hold on those dates. This will ensure that the stage is reserved for you, pending final confirmation of your project details.\n",
      "\n",
      "Would you be available to come by the studio this week or next to take a look around and discuss your project in more detail? I'd love to give you a tour of the space and answer any questions you may have.\n",
      "\n",
      "Please let me know your availability, and I'll schedule a time that works for you.\n",
      "\n",
      "Best regards,\n",
      "Tristan\n"
     ]
    }
   ],
   "source": [
    "response = pipeline.prompt(\n",
    "    system_prompt=\"You are a helpful assistant that writes email replies for my business, which is a video filmmaking studio in Raleigh, North Carolina. We have a very large soundstage and we do lots of local production and post-production.  Your reply to customers are concise, informative, and very welcoming.\",\n",
    "    \n",
    "    user_prompt=f\"\"\"\n",
    "    Write a reply to the {email} and say that we have shoot dates open for that week that he's referencing and ask if he wants a soft hold and also ask for his availability to come into the studio and check it out. \n",
    "    \n",
    "    Include text in {who_i_am} at the beginning of the response after the greeting.\n",
    "    \n",
    "    Use text in {human_responses_stage} to see responses to previous stage inquiries as a guide for what I say an how I say it to someone reaching out with an initial inquiry about using the sound stage.\"\"\"\n",
    ")\n",
    "print(response)"
   ]
  }
 ],
 "metadata": {
  "kernelspec": {
   "display_name": "venv",
   "language": "python",
   "name": "python3"
  },
  "language_info": {
   "codemirror_mode": {
    "name": "ipython",
    "version": 3
   },
   "file_extension": ".py",
   "mimetype": "text/x-python",
   "name": "python",
   "nbconvert_exporter": "python",
   "pygments_lexer": "ipython3",
   "version": "3.9.7"
  }
 },
 "nbformat": 4,
 "nbformat_minor": 2
}
